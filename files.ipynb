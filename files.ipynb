{
 "cells": [
  {
   "cell_type": "code",
   "execution_count": 45,
   "id": "494c323a",
   "metadata": {},
   "outputs": [
    {
     "name": "stdout",
     "output_type": "stream",
     "text": [
      "YNC.txt\n"
     ]
    }
   ],
   "source": [
    "f = open('YNC.txt', 'r') \n",
    "print(f.name)\n",
    "f.close()"
   ]
  },
  {
   "cell_type": "code",
   "execution_count": 58,
   "id": "a953cf3b",
   "metadata": {},
   "outputs": [
    {
     "name": "stdout",
     "output_type": "stream",
     "text": [
      "\n"
     ]
    }
   ],
   "source": [
    "f = open('YNC.txt', 'r')\n",
    "f_contents= f.readline()\n",
    "print (f_contents)"
   ]
  },
  {
   "cell_type": "code",
   "execution_count": 59,
   "id": "80716c13",
   "metadata": {},
   "outputs": [
    {
     "name": "stdout",
     "output_type": "stream",
     "text": [
      "[]\n"
     ]
    }
   ],
   "source": [
    "f = open('YNC.txt', 'r')\n",
    "f_contents= f.readlines()\n",
    "print (f_contents)"
   ]
  },
  {
   "cell_type": "code",
   "execution_count": 74,
   "id": "844c003c",
   "metadata": {},
   "outputs": [
    {
     "name": "stdout",
     "output_type": "stream",
     "text": [
      "0\n"
     ]
    }
   ],
   "source": [
    "with open('YNC.txt', 'r+') as f:\n",
    "    num=0\n",
    "    for line in f:\n",
    "        words = lines.split()\n",
    "        print(words)\n",
    "        num+= len (words)\n",
    "    print (num)"
   ]
  },
  {
   "cell_type": "code",
   "execution_count": 83,
   "id": "3de35a2a",
   "metadata": {},
   "outputs": [],
   "source": [
    "f = open('YNC.txt', 'r')\n",
    "f_contents= f.readlines () \n",
    "def readnlines(f, n):\n",
    "    lines = []\n",
    "    for line in (f.readlines() [-n:]):\n",
    "                 print(line)"
   ]
  },
  {
   "cell_type": "code",
   "execution_count": null,
   "id": "4166158a",
   "metadata": {},
   "outputs": [],
   "source": []
  }
 ],
 "metadata": {
  "kernelspec": {
   "display_name": "Python 3 (ipykernel)",
   "language": "python",
   "name": "python3"
  },
  "language_info": {
   "codemirror_mode": {
    "name": "ipython",
    "version": 3
   },
   "file_extension": ".py",
   "mimetype": "text/x-python",
   "name": "python",
   "nbconvert_exporter": "python",
   "pygments_lexer": "ipython3",
   "version": "3.9.7"
  }
 },
 "nbformat": 4,
 "nbformat_minor": 5
}
